{
 "cells": [
  {
   "cell_type": "code",
   "execution_count": 121,
   "metadata": {},
   "outputs": [],
   "source": [
    "### input variables to build leaderboard - fixed\n",
    "platform = 'psn'\n",
    "gamemode = 'Resurgence Trios'\n",
    "duration_hours = 2\n",
    "start_time = datetime.datetime.strptime('2021-07-22 20:00:00+00:00', '%Y-%m-%d %H:%M:%S%z')\n",
    "end_time = start_time + datetime.timedelta(hours = duration_hours)\n",
    "players = ['Dav-Jones','ws23100']\n",
    "\n",
    "### dataframe that collects match data for all usernames in players\n",
    "all_matches = pd.DataFrame()\n",
    "for username in players:\n",
    "    \n",
    "    ### get tracker.gg json object using api\n",
    "    conn = http.client.HTTPSConnection('api.tracker.gg')\n",
    "    payload = ''\n",
    "    conn.request('GET', '/api/v2/warzone/standard/matches/' + platform + '/' + username + '?type=wz', payload)\n",
    "    res = conn.getresponse()\n",
    "    history_dict = json.loads(res.read())\n",
    "\n",
    "    ### parse only the match details\n",
    "    match_list = history_dict['data']['matches']\n",
    "\n",
    "    ### create empty list and append details for dataframe conversion\n",
    "    d = []\n",
    "    for match in match_list:\n",
    "        d.append((\n",
    "            username,\n",
    "            match['attributes']['id'],\n",
    "            ### convert time to ISO 8601 timestamp\n",
    "            datetime.datetime.strptime((match['metadata']['timestamp']), '%Y-%m-%dT%H:%M:%S%z'),\n",
    "            match['metadata']['modeName'],\n",
    "            match['segments'][0]['metadata']['placement'],\n",
    "            match['segments'][0]['stats']['kills']['value']\n",
    "        ))\n",
    "\n",
    "    player_matches = pd.DataFrame(d, columns=('username', 'id', 'timestamp', 'gamemode', 'placement', 'kills'))\n",
    "    all_matches = all_matches.append(player_matches)\n",
    "    \n",
    "### match details between tournament start and end times (copy() to get rid of SettingWithCopyWarning)\n",
    "tournament_matches = all_matches[(all_matches['gamemode'] == gamemode) & (all_matches['timestamp'] >= start_time) & (all_matches['timestamp'] < end_time)].copy()\n",
    "tournament_matches.reset_index(drop=True, inplace=True)\n",
    "\n",
    "### standard game mode - add more columns (headshots, wallbangs, guns, etc) to create other game modes\n",
    "tournament_matches.loc[tournament_matches.placement <= 5, 'placement_points'] = 6 - tournament_matches.placement\n",
    "tournament_matches.loc[tournament_matches.placement > 5, 'placement_points'] = 0                                        \n",
    "tournament_matches['kill_points'] = tournament_matches['kills']\n",
    "\n",
    "### standard game mode - aggregate to create leaderboard\n",
    "leaderboard = tournament_matches.groupby('username', as_index=False).sum() # stop usernames becoming indices\n",
    "leaderboard.drop(['placement','kills'], axis=1, inplace=True)\n",
    "leaderboard['total_points'] = leaderboard['placement_points'] + leaderboard['kill_points']\n",
    "leaderboard.sort_values(['total_points'], inplace=True, ascending=False)"
   ]
  },
  {
   "cell_type": "code",
   "execution_count": 122,
   "metadata": {},
   "outputs": [
    {
     "data": {
      "text/html": [
       "<div>\n",
       "<style scoped>\n",
       "    .dataframe tbody tr th:only-of-type {\n",
       "        vertical-align: middle;\n",
       "    }\n",
       "\n",
       "    .dataframe tbody tr th {\n",
       "        vertical-align: top;\n",
       "    }\n",
       "\n",
       "    .dataframe thead th {\n",
       "        text-align: right;\n",
       "    }\n",
       "</style>\n",
       "<table border=\"1\" class=\"dataframe\">\n",
       "  <thead>\n",
       "    <tr style=\"text-align: right;\">\n",
       "      <th></th>\n",
       "      <th>username</th>\n",
       "      <th>placement_points</th>\n",
       "      <th>kill_points</th>\n",
       "      <th>total_points</th>\n",
       "    </tr>\n",
       "  </thead>\n",
       "  <tbody>\n",
       "    <tr>\n",
       "      <th>1</th>\n",
       "      <td>ws23100</td>\n",
       "      <td>6.0</td>\n",
       "      <td>9.0</td>\n",
       "      <td>15.0</td>\n",
       "    </tr>\n",
       "    <tr>\n",
       "      <th>0</th>\n",
       "      <td>Dav-Jones</td>\n",
       "      <td>6.0</td>\n",
       "      <td>7.0</td>\n",
       "      <td>13.0</td>\n",
       "    </tr>\n",
       "  </tbody>\n",
       "</table>\n",
       "</div>"
      ],
      "text/plain": [
       "    username  placement_points  kill_points  total_points\n",
       "1    ws23100               6.0          9.0          15.0\n",
       "0  Dav-Jones               6.0          7.0          13.0"
      ]
     },
     "execution_count": 122,
     "metadata": {},
     "output_type": "execute_result"
    }
   ],
   "source": [
    "leaderboard"
   ]
  }
 ],
 "metadata": {
  "kernelspec": {
   "display_name": "Python 3",
   "language": "python",
   "name": "python3"
  },
  "language_info": {
   "codemirror_mode": {
    "name": "ipython",
    "version": 3
   },
   "file_extension": ".py",
   "mimetype": "text/x-python",
   "name": "python",
   "nbconvert_exporter": "python",
   "pygments_lexer": "ipython3",
   "version": "3.8.5"
  }
 },
 "nbformat": 4,
 "nbformat_minor": 4
}
