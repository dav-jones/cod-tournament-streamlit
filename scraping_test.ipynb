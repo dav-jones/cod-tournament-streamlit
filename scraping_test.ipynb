{
 "cells": [
  {
   "cell_type": "code",
   "execution_count": null,
   "metadata": {},
   "outputs": [],
   "source": [
    "import http\n",
    "import json\n",
    "import datetime\n",
    "import pandas as pd\n",
    "import numpy as np\n",
    "\n",
    "platform = 'psn'\n",
    "username = 'Dav-Jones'\n",
    "\n",
    "all_matches = pd.DataFrame()\n",
    "\n",
    "conn = http.client.HTTPSConnection('api.tracker.gg')\n",
    "payload = ''\n",
    "conn.request('GET', '/api/v2/warzone/standard/matches/' + platform + '/' + username + '?type=wz', payload)\n",
    "res = conn.getresponse()\n",
    "history_dict = json.loads(res.read())\n",
    "history_dict\n",
    "\n",
    "# match_list = history_dict['data']['matches']\n",
    "\n",
    "match_list = next(iter(history_dict.values()))['matches']\n",
    "\n",
    "d = []\n",
    "for match in match_list:\n",
    "    d.append((\n",
    "        username,\n",
    "        match['attributes']['id'],\n",
    "        ### convert time to ISO 8601 timestamp\n",
    "        datetime.datetime.strptime((match['metadata']['timestamp']), '%Y-%m-%dT%H:%M:%S%z'),\n",
    "        match['metadata']['modeName'],\n",
    "        match['segments'][0]['metadata']['placement'],\n",
    "        match['segments'][0]['stats']['kills']['value']\n",
    "    ))\n",
    "\n",
    "player_matches = pd.DataFrame(d, columns=('username', 'id', 'timestamp', 'gamemode', 'placement', 'kills'))\n",
    "all_matches = all_matches.append(player_matches)\n",
    "all_matches"
   ]
  }
 ],
 "metadata": {
  "kernelspec": {
   "display_name": "Python 3",
   "language": "python",
   "name": "python3"
  },
  "language_info": {
   "codemirror_mode": {
    "name": "ipython",
    "version": 3
   },
   "file_extension": ".py",
   "mimetype": "text/x-python",
   "name": "python",
   "nbconvert_exporter": "python",
   "pygments_lexer": "ipython3",
   "version": "3.8.5"
  }
 },
 "nbformat": 4,
 "nbformat_minor": 4
}
