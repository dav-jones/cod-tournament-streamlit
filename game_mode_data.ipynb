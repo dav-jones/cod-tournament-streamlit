{
 "cells": [
  {
   "cell_type": "code",
   "execution_count": 62,
   "metadata": {},
   "outputs": [],
   "source": [
    "### data available to create new game modes\n",
    "\n",
    "# kills\n",
    "match['segments'][0]['stats']['kills']['value']\n",
    "\n",
    "# score\n",
    "match['segments'][0]['stats']['score']['value']\n",
    "\n",
    "# wallbangs\n",
    "match['segments'][0]['stats']['wallBangs']['value']\n",
    "\n",
    "# headshots\n",
    "match['segments'][0]['stats']['headshots']['value']\n",
    "\n",
    "# assists\n",
    "match['segments'][0]['stats']['assists']['value']\n",
    "\n",
    "# score_per_min\n",
    "match['segments'][0]['stats']['scorePerMinute']['value']\n",
    "\n",
    "# distance_travelled\n",
    "match['segments'][0]['stats']['distanceTraveled']['value']\n",
    "\n",
    "# deaths\n",
    "match['segments'][0]['stats']['deaths']['value']\n",
    "\n",
    "# contracts_started\n",
    "match['segments'][0]['stats']['objectiveBrMissionPickupTablet']['value']\n",
    "\n",
    "# shop_purchases\n",
    "match['segments'][0]['stats']['objectiveBrKioskBuy']['value']\n",
    "\n",
    "# executions\n",
    "match['segments'][0]['stats']['executions']['value']\n",
    "\n",
    "# boxes_opened\n",
    "match['segments'][0]['stats']['objectiveBrCacheOpen']['value']\n",
    "\n",
    "# percentage_time_moving\n",
    "match['segments'][0]['stats']['percentTimeMoving']['value']\n",
    "\n",
    "# damage_done\n",
    "match['segments'][0]['stats']['damageDone']['value']\n",
    "\n",
    "# damage_taken\n",
    "match['segments'][0]['stats']['damageTaken']['value']\n",
    "\n",
    "# damage_per_min\n",
    "match['segments'][0]['stats']['damageDonePerMinute']['value']"
   ]
  }
 ],
 "metadata": {
  "kernelspec": {
   "display_name": "Python 3",
   "language": "python",
   "name": "python3"
  },
  "language_info": {
   "codemirror_mode": {
    "name": "ipython",
    "version": 3
   },
   "file_extension": ".py",
   "mimetype": "text/x-python",
   "name": "python",
   "nbconvert_exporter": "python",
   "pygments_lexer": "ipython3",
   "version": "3.8.5"
  }
 },
 "nbformat": 4,
 "nbformat_minor": 4
}
